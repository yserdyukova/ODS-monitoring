{
 "cells": [
  {
   "cell_type": "code",
   "execution_count": 1,
   "metadata": {
    "collapsed": true
   },
   "outputs": [],
   "source": [
    "#!/opt/anaconda3/bin/python3\n",
    "\n",
    "import pandas as pd\n",
    "import numpy as np\n",
    "import itertools\n",
    "\n",
    "from datetime import datetime, timedelta, date\n",
    "from collections import defaultdict\n",
    "\n",
    "import plotly.figure_factory as ff\n",
    "from plotly.offline import init_notebook_mode, plot, iplot\n",
    "from plotly.io import write_image\n",
    "\n",
    "from showforecast import show_forecast\n",
    "\n",
    "\n",
    "def show_table(X, anomaly_days, report_period):\n",
    "    \n",
    "    X.time = X.time.dt.strftime(\"%d-%m-%Y %H:%M:%S\")\n",
    "    \n",
    "    report_date = datetime.now().strftime(\"%d-%m-%Y %H:%M:%S\")\n",
    "    report_period = '{0} - {1}'.format(report_period[0].strftime(\"%d-%m-%Y %H:%M:%S\"), report_period[1].strftime(\"%d-%m-%Y %H:%M:%S\"))\n",
    "    \n",
    "    report_info = 'Дата формирования отчета: {0}'.format(report_date)\n",
    "    \n",
    "    anomaly_table = ff.create_table(X, height_constant=50)\n",
    "    title = 'Дата формирования отчета: {0} <br> Обработаны данные за период: {1} <br> Аномалии за последние {2} дня:'.format(report_date, report_period, anomaly_days)\n",
    "    anomaly_table.layout.margin.update({'t':120})\n",
    "    anomaly_table.layout.update({'title': title})\n",
    "    anomaly_table.layout.titlefont.update({'size': 16})\n",
    "\n",
    "    return anomaly_table\n",
    "\n",
    "\n",
    "if __name__ == \"__main__\":\n",
    "    \n",
    "    df = pd.read_csv('../models/model_result/autoencoder_err.csv', ';', infer_datetime_format=True, parse_dates=['time'])\n",
    "    df['is_anomaly'] = df.groupby(['host','consumer_group'])['error'].transform(lambda x: np.abs(x - x.mean()) > 3 * x.std())\n",
    "    days = 3\n",
    "    timeinterval = df.time.diff().mode()\n",
    "\n",
    "    for group in df.consumer_group.unique():\n",
    "        X = defaultdict(dict)\n",
    "        y = defaultdict(dict)\n",
    "        anomaly = defaultdict(dict)\n",
    "        for host in df[df.consumer_group == group].host.unique():\n",
    "            y[host] = {metric: df[(df.host == host) & (df.consumer_group == group)][metric].values for metric in df.drop(columns=['time', 'host', 'consumer_group', 'error', 'is_anomaly']).columns}\n",
    "            X[host] = {metric: df[(df.host == host) & (df.consumer_group == group)].time.values.astype('M8[ms]').astype('O') for metric in df.drop(columns=['time', 'host', 'consumer_group', 'error', 'is_anomaly']).columns}\n",
    "            anomaly[host] = df[(df.consumer_group == group) & (df.is_anomaly == True)].time.values.astype('M8[ms]').astype('O')\n",
    "        fig_reqs = show_forecast(X, y, 'host ', '', group, anomaly, timeinterval, [df.time.max()-timedelta(days=days), df.time.max()])\n",
    "        plot(fig_reqs, filename='../server/html/anomaly/report_{0}.html'.format(group), auto_open=False, show_link=False)\n",
    "\n",
    "    \n",
    "    report = show_table(df[(df.is_anomaly == True) & (df.time > df.time.max() - timedelta(days=days))][['time', 'consumer_group', 'host']].sort_values(by=['time'], ascending=False), days, [df.time.min(), df.time.max()])\n",
    "    write_image(report, '../server/images/anomaly/anomaly_table.png')\n",
    "        "
   ]
  }
 ],
 "metadata": {
  "kernelspec": {
   "display_name": "Python 3",
   "language": "python",
   "name": "python3"
  },
  "language_info": {
   "codemirror_mode": {
    "name": "ipython",
    "version": 3
   },
   "file_extension": ".py",
   "mimetype": "text/x-python",
   "name": "python",
   "nbconvert_exporter": "python",
   "pygments_lexer": "ipython3",
   "version": "3.6.1"
  }
 },
 "nbformat": 4,
 "nbformat_minor": 2
}
