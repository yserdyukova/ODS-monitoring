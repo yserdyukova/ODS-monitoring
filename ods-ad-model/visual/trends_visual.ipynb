{
 "cells": [
  {
   "cell_type": "code",
   "execution_count": 1,
   "metadata": {
    "collapsed": true
   },
   "outputs": [],
   "source": [
    "#!/opt/anaconda3/bin/python3\n",
    "\n",
    "import pandas as pd\n",
    "from plotly.offline import init_notebook_mode, plot, iplot\n",
    "from collections import defaultdict\n",
    "from showforecast import show_forecast\n",
    "\n",
    "if __name__ == \"__main__\":\n",
    "    \n",
    "    \n",
    "    df = pd.read_csv('../models/model_result/prophet_trends_by_metrics.csv', ';', infer_datetime_format=True, parse_dates=['time'])\n",
    "    timeinterval = df.time.diff().mode()\n",
    "    for metric in df.drop(columns=['time', 'host', 'consumer_group']).columns:   \n",
    "        X = defaultdict(dict)\n",
    "        y = defaultdict(dict)\n",
    "        for host in df.host.unique():\n",
    "            y[host] = {group: df[(df.host == host) & (df.consumer_group == group)][metric].values for group in df[df.host == host].consumer_group.unique()}\n",
    "            X[host] = {group: df[(df.host == host) & (df.consumer_group == group)].time.values.astype('M8[ms]').astype('O') for group in df[df.host == host].consumer_group.unique()}\n",
    "        fig_reqs = show_forecast(X, y, 'host ', '', metric, timeinterval=timeinterval)\n",
    "        plot(fig_reqs, filename='../server/html/trends/by_metrics/trend_{0}.html'.format(metric), auto_open=False, show_link=False)\n",
    "\n",
    "        \n",
    "    df = pd.read_csv('../models/model_result/prophet_trends_by_sysmetrics.csv', ';', infer_datetime_format=True, parse_dates=['time'])\n",
    "    timeinterval = df.time.diff().mode()\n",
    "    X = defaultdict(dict)\n",
    "    y = defaultdict(dict)\n",
    "    for metric in df.drop(columns=['time', 'host']).columns:   \n",
    "        y[metric] = {host: df[(df.host == host)][metric].values for host in df.host.unique()}\n",
    "        X[metric] = {host: df[(df.host == host)].time.values.astype('M8[ms]').astype('O') for host in df.host.unique()}\n",
    "    fig_reqs = show_forecast(X, y, '', 'host ', 'sys metrics', timeinterval=timeinterval)    \n",
    "    plot(fig_reqs, filename='../server/html/trends/sys_metrics/trend_sys_metrics.html', auto_open=False, show_link=False)\n",
    "    "
   ]
  }
 ],
 "metadata": {
  "kernelspec": {
   "display_name": "Python 3",
   "language": "python",
   "name": "python3"
  },
  "language_info": {
   "codemirror_mode": {
    "name": "ipython",
    "version": 3
   },
   "file_extension": ".py",
   "mimetype": "text/x-python",
   "name": "python",
   "nbconvert_exporter": "python",
   "pygments_lexer": "ipython3",
   "version": "3.6.1"
  }
 },
 "nbformat": 4,
 "nbformat_minor": 2
}
