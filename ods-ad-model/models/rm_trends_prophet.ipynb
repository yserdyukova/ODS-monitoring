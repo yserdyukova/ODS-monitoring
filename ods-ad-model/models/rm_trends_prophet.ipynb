{
 "cells": [
  {
   "cell_type": "code",
   "execution_count": 1,
   "metadata": {},
   "outputs": [
    {
     "name": "stderr",
     "output_type": "stream",
     "text": [
      "C:\\Users\\JustMe\\Anaconda3\\lib\\site-packages\\pystan\\misc.py:399: FutureWarning: Conversion of the second argument of issubdtype from `float` to `np.floating` is deprecated. In future, it will be treated as `np.float64 == np.dtype(float).type`.\n",
      "  elif np.issubdtype(np.asarray(v).dtype, float):\n"
     ]
    }
   ],
   "source": [
    "#!/opt/anaconda3/bin/python3\n",
    "\n",
    "import pandas as pd\n",
    "import numpy as np\n",
    "import itertools\n",
    "from collections import defaultdict\n",
    "from datetime import datetime, timedelta, date\n",
    "from fbprophet import Prophet\n",
    "from fbprophet.plot import add_changepoints_to_plot\n",
    "from fbprophet.diagnostics import cross_validation\n",
    "\n",
    "def prophet(df, holidays):\n",
    "    ''' Function for prophet calculation\n",
    "    '''\n",
    "\n",
    "    sample = df.copy(deep=True)\n",
    "    sample.columns = ['ds','y']\n",
    "\n",
    "    \n",
    "    modelProphet = Prophet(changepoint_prior_scale=0.1,\n",
    "                           yearly_seasonality=False,\n",
    "                           weekly_seasonality=True,\n",
    "                           holidays=holidays)\n",
    "    modelProphet.fit(sample)\n",
    "\n",
    "    future = modelProphet.make_future_dataframe(periods=0, freq='20min')\n",
    "    \n",
    "    return modelProphet.predict(future).trend\n",
    "\n",
    "\n",
    "def main(inputfile, outputfile, mode='group'):\n",
    "    \n",
    "    holidays = {\n",
    "    2018: {1:[1,2,3,4,5,6,7,8,13,14,20,21,27,28],2:[3,4,10,11,17,18,22,23,24,25],3:[3,4,7,8,9,10,11,17,18,24,25,31],4:[1,7,8,14,15,21,22,28,29,30],5:[1,2,5,6,8,9,12,13,19,20,26,27],6:[2,3,9,10,11,12,16,17,23,24,30],7:[1,7,8,14,15,21,22,28,29],8:[4,5,11,12,18,19,25,26],9:[1,2,8,9,15,16,22,23,29,30],10:[6,7,13,14,20,21,27,28],11:[3,4,5,10,11,17,18,24,25],12:[1,2,8,9,15,16,22,23,29,30,31]},\n",
    "    2019: {1:[1,2,3,4,5,6,7,8,12,13,19,20,26,27],2:[2,3,9,10,16,17,22,23,24],3:[2,3,7,8,9,10,16,17,23,24,30,31],4:[6,7,13,14,20,21,27,28,30],5:[1,2,3,4,5,8,9,10,11,12,18,19,25,26],6:[1,2,8,9,11,12,15,16,22,23,29,30],7:[6,7,13,14,20,21,27,28],8:[3,4,10,11,17,18,24,25,31],9:[1,7,8,14,15,21,22,28,29],10:[5,6,12,13,19,20,26,27],11:[2,3,4,9,10,16,17,23,24,30],12:[1,7,8,14,15,21,22,28,29,31]},\n",
    "    2020: {1:[1,2,3,4,5,6,7,8,11,12,18,19,25,26],2:[1,2,8,9,15,16,22,23,24,29],3:[1,7,8,9,14,15,21,22,28,29],4:[4,5,11,12,18,19,25,26,30],5:[1,2,3,8,9,10,11,16,17,23,24,30,31],6:[6,7,11,12,13,14,20,21,27,28],7:[4,5,11,12,18,19,25,26],8:[1,2,8,9,15,16,22,23,29,30],9:[5,6,12,13,19,20,26,27],10:[3,4,10,11,17,18,24,25,31],11:[1,3,4,7,8,14,15,21,22,28,29],12:[5,6,12,13,19,20,26,27,31]},\n",
    "    2021: {1:[1,2,3,4,5,6,7,8,9,10,16,17,23,24,30,31],2:[6,7,13,14,20,21,22,23,27,28],3:[6,7,8,13,14,20,21,27,28],4:[3,4,10,11,17,18,24,25,30],5:[1,2,3,8,9,10,15,16,22,23,29,30],6:[5,6,11,12,13,14,19,20,26,27],7:[3,4,10,11,17,18,24,25,31],8:[1,7,8,14,15,21,22,28,29],9:[4,5,11,12,18,19,25,26],10:[2,3,9,10,16,17,23,24,30,31],11:[3,4,6,7,13,14,20,21,27,28],12:[4,5,11,12,18,19,25,26,31]}\n",
    "    }\n",
    "    holidays = pd.DataFrame(list(itertools.chain.from_iterable(list(itertools.chain.from_iterable([[[date(year,month,day) for day in days] for month,days in v.items()] for year,v in holidays.items()])))),columns=['ds'])\n",
    "    holidays['holiday'] = 'holiday'\n",
    "    \n",
    "    \n",
    "    df = pd.read_csv(inputfile, ';', infer_datetime_format=True, parse_dates=['time'])\n",
    "    \n",
    "    ind = ['host'] if mode == 'sys' else  ['host', 'consumer_group']\n",
    "    df = df.set_index(ind)\n",
    "    \n",
    "    forecast_prophet = pd.DataFrame()\n",
    "    for metric in df.drop(columns=['time']).columns:\n",
    "        forecast_key = pd.DataFrame()\n",
    "        for key in df.index.unique().values:\n",
    "            sample = df.loc[key, ('time', metric)].reset_index()\n",
    "            sample[metric] = prophet(sample[['time', metric]], holidays)\n",
    "            forecast_key = pd.concat([forecast_key, sample], sort=False)\n",
    "            \n",
    "        forecast_prophet = pd.concat([forecast_prophet, forecast_key.set_index(['time', *ind])], axis=1, sort=False)\n",
    "        \n",
    "    forecast_prophet.reset_index().to_csv(outputfile, ';', index=False)\n",
    "    \n",
    "\n",
    "if __name__ == \"__main__\":\n",
    "    \n",
    "    main('../features/clear_data/rm_features_for_trends_by_metrics.csv', 'model_result/prophet_trends_by_metrics.csv', 'group')\n",
    "    main('../features/clear_data/rm_features_for_trends_by_sysmetrics.csv', 'model_result/prophet_trends_by_sysmetrics.csv', 'sys')"
   ]
  }
 ],
 "metadata": {
  "kernelspec": {
   "display_name": "Python 3",
   "language": "python",
   "name": "python3"
  },
  "language_info": {
   "codemirror_mode": {
    "name": "ipython",
    "version": 3
   },
   "file_extension": ".py",
   "mimetype": "text/x-python",
   "name": "python",
   "nbconvert_exporter": "python",
   "pygments_lexer": "ipython3",
   "version": "3.6.1"
  }
 },
 "nbformat": 4,
 "nbformat_minor": 2
}
